{
 "cells": [
  {
   "cell_type": "markdown",
   "id": "828e5286",
   "metadata": {},
   "source": [
    "#### Imports"
   ]
  },
  {
   "cell_type": "code",
   "execution_count": 1,
   "id": "4cf5ce66",
   "metadata": {},
   "outputs": [],
   "source": [
    "#pip install google-cloud-bigquery\n",
    "#pip install --upgrade google-cloud-bigquery\n",
    "#pip install pandas pandas-gbq"
   ]
  },
  {
   "cell_type": "code",
   "execution_count": 1,
   "id": "f273e0ca",
   "metadata": {},
   "outputs": [],
   "source": [
    "import pandas as pd\n",
    "from google.cloud import bigquery\n",
    "from google.oauth2 import service_account\n",
    "from pandas_gbq import to_gbq"
   ]
  },
  {
   "cell_type": "code",
   "execution_count": 2,
   "id": "07a2742e",
   "metadata": {},
   "outputs": [],
   "source": [
    "# Credenciais\n",
    "credencial = service_account.Credentials.from_service_account_file(\n",
    "    r'G:\\ANALISYS\\EZTEC\\NAYLSON ARAUJO\\0.0-Temp\\00_Estudos\\repos\\estudos_big_query\\credencial\\pythoncurso-465921-048318803f09.json',\n",
    "    scopes = ['https://www.googleapis.com/auth/bigquery']\n",
    ")"
   ]
  },
  {
   "cell_type": "markdown",
   "id": "bc8a0711",
   "metadata": {},
   "source": [
    "#### Carregando Dados"
   ]
  },
  {
   "cell_type": "code",
   "execution_count": 6,
   "id": "56cbbfdd",
   "metadata": {},
   "outputs": [
    {
     "data": {
      "text/html": [
       "<div>\n",
       "<style scoped>\n",
       "    .dataframe tbody tr th:only-of-type {\n",
       "        vertical-align: middle;\n",
       "    }\n",
       "\n",
       "    .dataframe tbody tr th {\n",
       "        vertical-align: top;\n",
       "    }\n",
       "\n",
       "    .dataframe thead th {\n",
       "        text-align: right;\n",
       "    }\n",
       "</style>\n",
       "<table border=\"1\" class=\"dataframe\">\n",
       "  <thead>\n",
       "    <tr style=\"text-align: right;\">\n",
       "      <th></th>\n",
       "      <th>ID</th>\n",
       "      <th>Name</th>\n",
       "      <th>Price</th>\n",
       "      <th>Id_Category</th>\n",
       "    </tr>\n",
       "  </thead>\n",
       "  <tbody>\n",
       "    <tr>\n",
       "      <th>0</th>\n",
       "      <td>0</td>\n",
       "      <td>Sapato vermelho</td>\n",
       "      <td>96</td>\n",
       "      <td>0</td>\n",
       "    </tr>\n",
       "    <tr>\n",
       "      <th>1</th>\n",
       "      <td>0</td>\n",
       "      <td>Sapato vermelho</td>\n",
       "      <td>96</td>\n",
       "      <td>0</td>\n",
       "    </tr>\n",
       "    <tr>\n",
       "      <th>2</th>\n",
       "      <td>1</td>\n",
       "      <td>Bolsa mais que Velha</td>\n",
       "      <td>8000</td>\n",
       "      <td>0</td>\n",
       "    </tr>\n",
       "    <tr>\n",
       "      <th>3</th>\n",
       "      <td>2</td>\n",
       "      <td>Calça</td>\n",
       "      <td>75</td>\n",
       "      <td>0</td>\n",
       "    </tr>\n",
       "    <tr>\n",
       "      <th>4</th>\n",
       "      <td>3</td>\n",
       "      <td>Camisa apertadinha</td>\n",
       "      <td>170</td>\n",
       "      <td>0</td>\n",
       "    </tr>\n",
       "  </tbody>\n",
       "</table>\n",
       "</div>"
      ],
      "text/plain": [
       "   ID                  Name  Price  Id_Category\n",
       "0   0       Sapato vermelho     96            0\n",
       "1   0       Sapato vermelho     96            0\n",
       "2   1  Bolsa mais que Velha   8000            0\n",
       "3   2                 Calça     75            0\n",
       "4   3    Camisa apertadinha    170            0"
      ]
     },
     "execution_count": 6,
     "metadata": {},
     "output_type": "execute_result"
    }
   ],
   "source": [
    "df = pd.read_excel(r'G:\\ANALISYS\\EZTEC\\NAYLSON ARAUJO\\0.0-Temp\\00_Estudos\\repos\\estudos_big_query\\data\\Produto.xlsx')\n",
    "df.head()"
   ]
  },
  {
   "cell_type": "markdown",
   "id": "4da887f2",
   "metadata": {},
   "source": [
    "#### Enviando DataFrame para o BigQuery"
   ]
  },
  {
   "cell_type": "code",
   "execution_count": 8,
   "id": "2cd64931",
   "metadata": {},
   "outputs": [
    {
     "name": "stderr",
     "output_type": "stream",
     "text": [
      "C:\\Users\\naylson.araujo\\AppData\\Local\\Temp\\ipykernel_24008\\1804244575.py:1: FutureWarning: to_gbq is deprecated and will be removed in a future version. Please use pandas_gbq.to_gbq instead: https://pandas-gbq.readthedocs.io/en/latest/api.html#pandas_gbq.to_gbq\n",
      "  df.to_gbq(destination_table = 'pythoncurso-465921.AulaPython.Produto', #Substituir pelo nome correto da tabela\n"
     ]
    }
   ],
   "source": [
    "df.to_gbq(destination_table = 'pythoncurso-465921.AulaPython.Produto', #Substituir pelo nome correto da tabela\n",
    "          project_id = 'pythoncurso-465921',\n",
    "          if_exists = 'replace', #replace = substitui a tabela, append = adiciona dados no fim da tabela existente\n",
    "          credentials = credencial\n",
    "          )"
   ]
  },
  {
   "cell_type": "markdown",
   "id": "6102bbc9",
   "metadata": {},
   "source": [
    "#### Enviando Varias Tabelas para o BigQuery"
   ]
  },
  {
   "cell_type": "code",
   "execution_count": 4,
   "id": "8ee5f366",
   "metadata": {},
   "outputs": [],
   "source": [
    "produto = pd.read_excel(r'G:\\ANALISYS\\EZTEC\\NAYLSON ARAUJO\\0.0-Temp\\00_Estudos\\repos\\estudos_big_query\\data\\Produto.xlsx')\n",
    "itens = pd.read_excel(r'G:\\ANALISYS\\EZTEC\\NAYLSON ARAUJO\\0.0-Temp\\00_Estudos\\repos\\estudos_big_query\\data\\Itens.xlsx')\n",
    "ordens = pd.read_excel(r'G:\\ANALISYS\\EZTEC\\NAYLSON ARAUJO\\0.0-Temp\\00_Estudos\\repos\\estudos_big_query\\data\\Ordens.xlsx')\n",
    "categoria = pd.read_excel(r'G:\\ANALISYS\\EZTEC\\NAYLSON ARAUJO\\0.0-Temp\\00_Estudos\\repos\\estudos_big_query\\data\\Categoria.xlsx')\n",
    "clientes = pd.read_csv(r'G:\\ANALISYS\\EZTEC\\NAYLSON ARAUJO\\0.0-Temp\\00_Estudos\\repos\\estudos_big_query\\data\\Clientes.csv', delimiter=',')"
   ]
  },
  {
   "cell_type": "code",
   "execution_count": 7,
   "id": "db5fb375",
   "metadata": {},
   "outputs": [],
   "source": [
    "projeto = 'pythoncurso-465921'\n",
    "dataset = 'Ecommerce'\n",
    "parametro = 'replace'\n",
    "BQproduto = 'Produto'\n",
    "BQitens = 'itens'\n",
    "BQordens = 'ordens'\n",
    "BQcategoria = 'categoria'\n",
    "BQclientes = 'clientes'"
   ]
  },
  {
   "cell_type": "code",
   "execution_count": 8,
   "id": "ce647ba5",
   "metadata": {},
   "outputs": [],
   "source": [
    "# Credenciais\n",
    "credencial = service_account.Credentials.from_service_account_file(\n",
    "    r'G:\\ANALISYS\\EZTEC\\NAYLSON ARAUJO\\0.0-Temp\\00_Estudos\\repos\\estudos_big_query\\credencial\\pythoncurso-465921-048318803f09.json',\n",
    "    scopes = ['https://www.googleapis.com/auth/bigquery']\n",
    ")"
   ]
  },
  {
   "cell_type": "code",
   "execution_count": 9,
   "id": "f03be722",
   "metadata": {},
   "outputs": [
    {
     "name": "stderr",
     "output_type": "stream",
     "text": [
      "C:\\Users\\naylson.araujo\\AppData\\Local\\Temp\\ipykernel_12720\\3923905510.py:1: FutureWarning: to_gbq is deprecated and will be removed in a future version. Please use pandas_gbq.to_gbq instead: https://pandas-gbq.readthedocs.io/en/latest/api.html#pandas_gbq.to_gbq\n",
      "  produto.to_gbq(destination_table = f'{projeto}.{dataset}.{BQproduto}', #Substituir pelo nome correto da tabela\n"
     ]
    }
   ],
   "source": [
    "produto.to_gbq(destination_table = f'{projeto}.{dataset}.{BQproduto}', #Substituir pelo nome correto da tabela\n",
    "          project_id = projeto,\n",
    "          if_exists = parametro, #replace = substitui a tabela, append = adiciona dados no fim da tabela existente\n",
    "          credentials = credencial\n",
    "          )"
   ]
  },
  {
   "cell_type": "code",
   "execution_count": 10,
   "id": "7945eca4",
   "metadata": {},
   "outputs": [
    {
     "name": "stderr",
     "output_type": "stream",
     "text": [
      "C:\\Users\\naylson.araujo\\AppData\\Local\\Temp\\ipykernel_12720\\2680836322.py:1: FutureWarning: to_gbq is deprecated and will be removed in a future version. Please use pandas_gbq.to_gbq instead: https://pandas-gbq.readthedocs.io/en/latest/api.html#pandas_gbq.to_gbq\n",
      "  itens.to_gbq(destination_table = f'{projeto}.{dataset}.{BQitens}', #Substituir pelo nome correto da tabela\n"
     ]
    }
   ],
   "source": [
    "itens.to_gbq(destination_table = f'{projeto}.{dataset}.{BQitens}', #Substituir pelo nome correto da tabela\n",
    "          project_id = projeto,\n",
    "          if_exists = parametro, #replace = substitui a tabela, append = adiciona dados no fim da tabela existente\n",
    "          credentials = credencial\n",
    "          )"
   ]
  },
  {
   "cell_type": "code",
   "execution_count": 11,
   "id": "bc15a04d",
   "metadata": {},
   "outputs": [
    {
     "name": "stderr",
     "output_type": "stream",
     "text": [
      "C:\\Users\\naylson.araujo\\AppData\\Local\\Temp\\ipykernel_12720\\1470974026.py:1: FutureWarning: to_gbq is deprecated and will be removed in a future version. Please use pandas_gbq.to_gbq instead: https://pandas-gbq.readthedocs.io/en/latest/api.html#pandas_gbq.to_gbq\n",
      "  ordens.to_gbq(destination_table = f'{projeto}.{dataset}.{BQordens}', #Substituir pelo nome correto da tabela\n"
     ]
    }
   ],
   "source": [
    "ordens.to_gbq(destination_table = f'{projeto}.{dataset}.{BQordens}', #Substituir pelo nome correto da tabela\n",
    "          project_id = projeto,\n",
    "          if_exists = parametro, #replace = substitui a tabela, append = adiciona dados no fim da tabela existente\n",
    "          credentials = credencial\n",
    "          )"
   ]
  },
  {
   "cell_type": "code",
   "execution_count": 12,
   "id": "8d643b77",
   "metadata": {},
   "outputs": [
    {
     "name": "stderr",
     "output_type": "stream",
     "text": [
      "C:\\Users\\naylson.araujo\\AppData\\Local\\Temp\\ipykernel_12720\\938857810.py:1: FutureWarning: to_gbq is deprecated and will be removed in a future version. Please use pandas_gbq.to_gbq instead: https://pandas-gbq.readthedocs.io/en/latest/api.html#pandas_gbq.to_gbq\n",
      "  categoria.to_gbq(destination_table = f'{projeto}.{dataset}.{BQcategoria}', #Substituir pelo nome correto da tabela\n"
     ]
    }
   ],
   "source": [
    "categoria.to_gbq(destination_table = f'{projeto}.{dataset}.{BQcategoria}', #Substituir pelo nome correto da tabela\n",
    "          project_id = projeto,\n",
    "          if_exists = parametro, #replace = substitui a tabela, append = adiciona dados no fim da tabela existente\n",
    "          credentials = credencial\n",
    "          )"
   ]
  },
  {
   "cell_type": "code",
   "execution_count": 13,
   "id": "ab5dfb01",
   "metadata": {},
   "outputs": [
    {
     "name": "stderr",
     "output_type": "stream",
     "text": [
      "C:\\Users\\naylson.araujo\\AppData\\Local\\Temp\\ipykernel_12720\\3512586493.py:1: FutureWarning: to_gbq is deprecated and will be removed in a future version. Please use pandas_gbq.to_gbq instead: https://pandas-gbq.readthedocs.io/en/latest/api.html#pandas_gbq.to_gbq\n",
      "  clientes.to_gbq(destination_table = f'{projeto}.{dataset}.{BQclientes}', #Substituir pelo nome correto da tabela\n"
     ]
    }
   ],
   "source": [
    "clientes.to_gbq(destination_table = f'{projeto}.{dataset}.{BQclientes}', #Substituir pelo nome correto da tabela\n",
    "          project_id = projeto,\n",
    "          if_exists = parametro, #replace = substitui a tabela, append = adiciona dados no fim da tabela existente\n",
    "          credentials = credencial\n",
    "          )"
   ]
  },
  {
   "cell_type": "markdown",
   "id": "3583b41a",
   "metadata": {},
   "source": [
    "#### Extraindo Tabelas do Google BigQuery"
   ]
  },
  {
   "cell_type": "code",
   "execution_count": 2,
   "id": "fc6ade4c",
   "metadata": {},
   "outputs": [],
   "source": [
    "# Caminho do arquivo da credencial\n",
    "credencial = r'G:\\ANALISYS\\EZTEC\\NAYLSON ARAUJO\\0.0-Temp\\00_Estudos\\repos\\estudos_big_query\\credencial\\pythoncurso-465921-048318803f09.json'\n",
    "\n",
    "# Criando o clint Bigquery usando as credenciais \n",
    "client = bigquery.Client.from_service_account_json(credencial)"
   ]
  },
  {
   "cell_type": "code",
   "execution_count": 3,
   "id": "7e54c48b",
   "metadata": {},
   "outputs": [
    {
     "name": "stderr",
     "output_type": "stream",
     "text": [
      "c:\\Users\\naylson.araujo\\AppData\\Local\\Programs\\Python\\Python313\\Lib\\site-packages\\google\\cloud\\bigquery\\table.py:1994: UserWarning: BigQuery Storage module not found, fetch data with the REST endpoint instead.\n",
      "  warnings.warn(\n"
     ]
    }
   ],
   "source": [
    "#Consultas\n",
    "queryProduto = \"\"\"\n",
    "SELECT * FROM `pythoncurso-465921.Ecommerce.Produto`\n",
    "\"\"\"\n",
    "\n",
    "#Executa a consulta e traz o resultado\n",
    "resultadoProduto = client.query(queryProduto)\n",
    "\n",
    "#Convertendo o resultado em DataFrame\n",
    "Produto = resultadoProduto.to_dataframe()\n"
   ]
  },
  {
   "cell_type": "code",
   "execution_count": 4,
   "id": "85035500",
   "metadata": {},
   "outputs": [
    {
     "data": {
      "text/html": [
       "<div>\n",
       "<style scoped>\n",
       "    .dataframe tbody tr th:only-of-type {\n",
       "        vertical-align: middle;\n",
       "    }\n",
       "\n",
       "    .dataframe tbody tr th {\n",
       "        vertical-align: top;\n",
       "    }\n",
       "\n",
       "    .dataframe thead th {\n",
       "        text-align: right;\n",
       "    }\n",
       "</style>\n",
       "<table border=\"1\" class=\"dataframe\">\n",
       "  <thead>\n",
       "    <tr style=\"text-align: right;\">\n",
       "      <th></th>\n",
       "      <th>ID</th>\n",
       "      <th>Name</th>\n",
       "      <th>Price</th>\n",
       "      <th>Id_Category</th>\n",
       "    </tr>\n",
       "  </thead>\n",
       "  <tbody>\n",
       "    <tr>\n",
       "      <th>0</th>\n",
       "      <td>0</td>\n",
       "      <td>Sapato vermelho</td>\n",
       "      <td>96</td>\n",
       "      <td>0</td>\n",
       "    </tr>\n",
       "    <tr>\n",
       "      <th>1</th>\n",
       "      <td>0</td>\n",
       "      <td>Sapato vermelho</td>\n",
       "      <td>96</td>\n",
       "      <td>0</td>\n",
       "    </tr>\n",
       "    <tr>\n",
       "      <th>2</th>\n",
       "      <td>1</td>\n",
       "      <td>Bolsa mais que Velha</td>\n",
       "      <td>8000</td>\n",
       "      <td>0</td>\n",
       "    </tr>\n",
       "    <tr>\n",
       "      <th>3</th>\n",
       "      <td>2</td>\n",
       "      <td>Calça</td>\n",
       "      <td>75</td>\n",
       "      <td>0</td>\n",
       "    </tr>\n",
       "    <tr>\n",
       "      <th>4</th>\n",
       "      <td>3</td>\n",
       "      <td>Camisa apertadinha</td>\n",
       "      <td>170</td>\n",
       "      <td>0</td>\n",
       "    </tr>\n",
       "  </tbody>\n",
       "</table>\n",
       "</div>"
      ],
      "text/plain": [
       "   ID                  Name  Price  Id_Category\n",
       "0   0       Sapato vermelho     96            0\n",
       "1   0       Sapato vermelho     96            0\n",
       "2   1  Bolsa mais que Velha   8000            0\n",
       "3   2                 Calça     75            0\n",
       "4   3    Camisa apertadinha    170            0"
      ]
     },
     "execution_count": 4,
     "metadata": {},
     "output_type": "execute_result"
    }
   ],
   "source": [
    "Produto.head()"
   ]
  },
  {
   "cell_type": "code",
   "execution_count": 5,
   "id": "ebd7db7b",
   "metadata": {},
   "outputs": [],
   "source": [
    "#Salvando o arquivo na pasta\n",
    "caminho = r'G:\\ANALISYS\\EZTEC\\NAYLSON ARAUJO\\0.0-Temp\\00_Estudos\\repos\\estudos_big_query\\dados exportados\\\\'\n",
    "arquivoProduto = 'produto.xlsx'\n",
    "\n",
    "Produto.to_excel(caminho+arquivoProduto, index=False) #index=False para não incluir o índice no arquivo"
   ]
  },
  {
   "cell_type": "code",
   "execution_count": 6,
   "id": "072a9ea2",
   "metadata": {},
   "outputs": [],
   "source": [
    "#Querys\n",
    "queryCategoria = \"\"\"\n",
    "SELECT * FROM `pythoncurso-465921.Ecommerce.categoria` WHERE id in (0,5,8,10)\n",
    "\"\"\"\n",
    "queryItens = \"\"\"\n",
    "SELECT * FROM `pythoncurso-465921.Ecommerce.itens`\n",
    "\"\"\"\n",
    "queryOrdens = \"\"\"\n",
    "SELECT * FROM `pythoncurso-465921.Ecommerce.ordens` LIMIT 20\n",
    "\"\"\"\n",
    "queryClientes = \"\"\"\n",
    "SELECT * FROM `pythoncurso-465921.Ecommerce.clientes` LIMIT 50\n",
    "\"\"\""
   ]
  },
  {
   "cell_type": "code",
   "execution_count": null,
   "id": "dc380f71",
   "metadata": {},
   "outputs": [],
   "source": [
    "#Resultados\n",
    "rCategoria = client.query(queryCategoria)\n",
    "rItens = client.query(queryItens)\n",
    "rOrdens = client.query(queryOrdens)\n",
    "rClientes = client.query(queryClientes)"
   ]
  },
  {
   "cell_type": "code",
   "execution_count": 8,
   "id": "2e9e33c8",
   "metadata": {},
   "outputs": [
    {
     "name": "stderr",
     "output_type": "stream",
     "text": [
      "c:\\Users\\naylson.araujo\\AppData\\Local\\Programs\\Python\\Python313\\Lib\\site-packages\\google\\cloud\\bigquery\\table.py:1994: UserWarning: BigQuery Storage module not found, fetch data with the REST endpoint instead.\n",
      "  warnings.warn(\n"
     ]
    }
   ],
   "source": [
    "#DataFrames\n",
    "dfCategoria = rCategoria.to_dataframe()\n",
    "dfItens = rItens.to_dataframe()\n",
    "dfOrdens = rOrdens.to_dataframe()\n",
    "dfClientes = rClientes.to_dataframe()"
   ]
  },
  {
   "cell_type": "code",
   "execution_count": 16,
   "id": "e783049c",
   "metadata": {},
   "outputs": [],
   "source": [
    "#Arquivos + Armazenamento em Excel\n",
    "aCategoria = 'categoria.xlsx'\n",
    "aItens = 'itens.xlsx'\n",
    "aOrdens = 'ordens.xlsx'\n",
    "aClientes = 'clientes.xlsx'\n",
    "\n",
    "dfCategoria.to_excel( caminho + aCategoria, index=False )\n",
    "dfItens.to_excel( caminho + aItens, index=False )\n",
    "dfOrdens.to_excel( caminho + aOrdens, index=False )\n",
    "dfClientes.to_excel( caminho + aClientes, index=False )"
   ]
  }
 ],
 "metadata": {
  "kernelspec": {
   "display_name": "Python 3",
   "language": "python",
   "name": "python3"
  },
  "language_info": {
   "codemirror_mode": {
    "name": "ipython",
    "version": 3
   },
   "file_extension": ".py",
   "mimetype": "text/x-python",
   "name": "python",
   "nbconvert_exporter": "python",
   "pygments_lexer": "ipython3",
   "version": "3.13.5"
  }
 },
 "nbformat": 4,
 "nbformat_minor": 5
}

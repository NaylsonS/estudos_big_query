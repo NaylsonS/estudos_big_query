{
 "cells": [
  {
   "cell_type": "markdown",
   "id": "828e5286",
   "metadata": {},
   "source": [
    "#### Imports"
   ]
  },
  {
   "cell_type": "code",
   "execution_count": 1,
   "id": "4cf5ce66",
   "metadata": {},
   "outputs": [],
   "source": [
    "#pip install google-cloud-bigquery\n",
    "#pip install --upgrade google-cloud-bigquery\n",
    "#pip install pandas pandas-gbq"
   ]
  },
  {
   "cell_type": "code",
   "execution_count": 47,
   "id": "f273e0ca",
   "metadata": {},
   "outputs": [],
   "source": [
    "import pandas as pd\n",
    "from google.cloud import bigquery\n",
    "from google.oauth2 import service_account\n",
    "from pandas_gbq import to_gbq\n",
    "from datetime import datetime"
   ]
  },
  {
   "cell_type": "code",
   "execution_count": 62,
   "id": "07a2742e",
   "metadata": {},
   "outputs": [],
   "source": [
    "# Credenciais\n",
    "credencial = service_account.Credentials.from_service_account_file(\n",
    "    r'G:\\ANALISYS\\EZTEC\\NAYLSON ARAUJO\\0.0-Temp\\00_Estudos\\ETL Google BigQuery\\credencial\\pythoncurso-465921-96e8acdc225e.json',\n",
    "    scopes = ['https://www.googleapis.com/auth/bigquery']\n",
    ")"
   ]
  },
  {
   "cell_type": "markdown",
   "id": "bc8a0711",
   "metadata": {},
   "source": [
    "#### Carregando Dados"
   ]
  },
  {
   "cell_type": "code",
   "execution_count": 13,
   "id": "56cbbfdd",
   "metadata": {},
   "outputs": [
    {
     "data": {
      "text/html": [
       "<div>\n",
       "<style scoped>\n",
       "    .dataframe tbody tr th:only-of-type {\n",
       "        vertical-align: middle;\n",
       "    }\n",
       "\n",
       "    .dataframe tbody tr th {\n",
       "        vertical-align: top;\n",
       "    }\n",
       "\n",
       "    .dataframe thead th {\n",
       "        text-align: right;\n",
       "    }\n",
       "</style>\n",
       "<table border=\"1\" class=\"dataframe\">\n",
       "  <thead>\n",
       "    <tr style=\"text-align: right;\">\n",
       "      <th></th>\n",
       "      <th>ID</th>\n",
       "      <th>Name</th>\n",
       "      <th>Price</th>\n",
       "      <th>Id_Category</th>\n",
       "    </tr>\n",
       "  </thead>\n",
       "  <tbody>\n",
       "    <tr>\n",
       "      <th>0</th>\n",
       "      <td>0</td>\n",
       "      <td>Sapato vermelho</td>\n",
       "      <td>96</td>\n",
       "      <td>0</td>\n",
       "    </tr>\n",
       "    <tr>\n",
       "      <th>1</th>\n",
       "      <td>0</td>\n",
       "      <td>Sapato vermelho</td>\n",
       "      <td>96</td>\n",
       "      <td>0</td>\n",
       "    </tr>\n",
       "    <tr>\n",
       "      <th>2</th>\n",
       "      <td>1</td>\n",
       "      <td>Bolsa mais que Velha</td>\n",
       "      <td>8000</td>\n",
       "      <td>0</td>\n",
       "    </tr>\n",
       "    <tr>\n",
       "      <th>3</th>\n",
       "      <td>2</td>\n",
       "      <td>Calça</td>\n",
       "      <td>75</td>\n",
       "      <td>0</td>\n",
       "    </tr>\n",
       "    <tr>\n",
       "      <th>4</th>\n",
       "      <td>3</td>\n",
       "      <td>Camisa apertadinha</td>\n",
       "      <td>170</td>\n",
       "      <td>0</td>\n",
       "    </tr>\n",
       "  </tbody>\n",
       "</table>\n",
       "</div>"
      ],
      "text/plain": [
       "   ID                  Name  Price  Id_Category\n",
       "0   0       Sapato vermelho     96            0\n",
       "1   0       Sapato vermelho     96            0\n",
       "2   1  Bolsa mais que Velha   8000            0\n",
       "3   2                 Calça     75            0\n",
       "4   3    Camisa apertadinha    170            0"
      ]
     },
     "execution_count": 13,
     "metadata": {},
     "output_type": "execute_result"
    }
   ],
   "source": [
    "df = pd.read_excel(r'G:\\ANALISYS\\EZTEC\\NAYLSON ARAUJO\\0.0-Temp\\00_Estudos\\repos\\estudos_big_query\\data\\Produto.xlsx')\n",
    "df.head()"
   ]
  },
  {
   "cell_type": "markdown",
   "id": "4da887f2",
   "metadata": {},
   "source": [
    "#### Enviando DataFrame para o BigQuery"
   ]
  },
  {
   "cell_type": "code",
   "execution_count": 14,
   "id": "2cd64931",
   "metadata": {},
   "outputs": [
    {
     "name": "stderr",
     "output_type": "stream",
     "text": [
      "C:\\Users\\naylson.araujo\\AppData\\Local\\Temp\\ipykernel_15216\\1804244575.py:1: FutureWarning: to_gbq is deprecated and will be removed in a future version. Please use pandas_gbq.to_gbq instead: https://pandas-gbq.readthedocs.io/en/latest/api.html#pandas_gbq.to_gbq\n",
      "  df.to_gbq(destination_table = 'pythoncurso-465921.AulaPython.Produto', #Substituir pelo nome correto da tabela\n"
     ]
    }
   ],
   "source": [
    "df.to_gbq(destination_table = 'pythoncurso-465921.AulaPython.Produto', #Substituir pelo nome correto da tabela\n",
    "          project_id = 'pythoncurso-465921',\n",
    "          if_exists = 'replace', #replace = substitui a tabela, append = adiciona dados no fim da tabela existente\n",
    "          credentials = credencial\n",
    "          )"
   ]
  },
  {
   "cell_type": "markdown",
   "id": "6102bbc9",
   "metadata": {},
   "source": [
    "#### Enviando Varias Tabelas para o BigQuery"
   ]
  },
  {
   "cell_type": "code",
   "execution_count": 34,
   "id": "8ee5f366",
   "metadata": {},
   "outputs": [],
   "source": [
    "produto = pd.read_excel(r'G:\\ANALISYS\\EZTEC\\NAYLSON ARAUJO\\0.0-Temp\\00_Estudos\\repos\\estudos_big_query\\data\\Produto.xlsx')\n",
    "itens = pd.read_excel(r'G:\\ANALISYS\\EZTEC\\NAYLSON ARAUJO\\0.0-Temp\\00_Estudos\\repos\\estudos_big_query\\data\\Itens.xlsx')\n",
    "ordens = pd.read_excel(r'G:\\ANALISYS\\EZTEC\\NAYLSON ARAUJO\\0.0-Temp\\00_Estudos\\repos\\estudos_big_query\\data\\Ordens.xlsx')\n",
    "categoria = pd.read_excel(r'G:\\ANALISYS\\EZTEC\\NAYLSON ARAUJO\\0.0-Temp\\00_Estudos\\repos\\estudos_big_query\\data\\Categoria.xlsx')\n",
    "clientes = pd.read_csv(r'G:\\ANALISYS\\EZTEC\\NAYLSON ARAUJO\\0.0-Temp\\00_Estudos\\repos\\estudos_big_query\\data\\Clientes.csv', delimiter=',')"
   ]
  },
  {
   "cell_type": "code",
   "execution_count": 35,
   "id": "db5fb375",
   "metadata": {},
   "outputs": [],
   "source": [
    "projeto = 'pythoncurso-465921'\n",
    "dataset = 'Ecommerce'\n",
    "parametro = 'replace'\n",
    "BQproduto = 'Produto'\n",
    "BQitens = 'itens'\n",
    "BQordens = 'ordens'\n",
    "BQcategoria = 'categoria'\n",
    "BQclientes = 'clientes'"
   ]
  },
  {
   "cell_type": "code",
   "execution_count": 31,
   "id": "ce647ba5",
   "metadata": {},
   "outputs": [],
   "source": [
    "# Credenciais\n",
    "credencial = service_account.Credentials.from_service_account_file(\n",
    "    r'G:\\ANALISYS\\EZTEC\\NAYLSON ARAUJO\\0.0-Temp\\00_Estudos\\ETL Google BigQuery\\credencial\\pythoncurso-465921-96e8acdc225e.json',\n",
    "    scopes = ['https://www.googleapis.com/auth/bigquery']\n",
    ")"
   ]
  },
  {
   "cell_type": "code",
   "execution_count": 32,
   "id": "f03be722",
   "metadata": {},
   "outputs": [
    {
     "name": "stderr",
     "output_type": "stream",
     "text": [
      "C:\\Users\\naylson.araujo\\AppData\\Local\\Temp\\ipykernel_15216\\3923905510.py:1: FutureWarning: to_gbq is deprecated and will be removed in a future version. Please use pandas_gbq.to_gbq instead: https://pandas-gbq.readthedocs.io/en/latest/api.html#pandas_gbq.to_gbq\n",
      "  produto.to_gbq(destination_table = f'{projeto}.{dataset}.{BQproduto}', #Substituir pelo nome correto da tabela\n"
     ]
    }
   ],
   "source": [
    "produto.to_gbq(destination_table = f'{projeto}.{dataset}.{BQproduto}', #Substituir pelo nome correto da tabela\n",
    "          project_id = projeto,\n",
    "          if_exists = parametro, #replace = substitui a tabela, append = adiciona dados no fim da tabela existente\n",
    "          credentials = credencial\n",
    "          )"
   ]
  },
  {
   "cell_type": "code",
   "execution_count": 19,
   "id": "7945eca4",
   "metadata": {},
   "outputs": [
    {
     "name": "stderr",
     "output_type": "stream",
     "text": [
      "C:\\Users\\naylson.araujo\\AppData\\Local\\Temp\\ipykernel_15216\\2680836322.py:1: FutureWarning: to_gbq is deprecated and will be removed in a future version. Please use pandas_gbq.to_gbq instead: https://pandas-gbq.readthedocs.io/en/latest/api.html#pandas_gbq.to_gbq\n",
      "  itens.to_gbq(destination_table = f'{projeto}.{dataset}.{BQitens}', #Substituir pelo nome correto da tabela\n"
     ]
    }
   ],
   "source": [
    "itens.to_gbq(destination_table = f'{projeto}.{dataset}.{BQitens}', #Substituir pelo nome correto da tabela\n",
    "          project_id = projeto,\n",
    "          if_exists = parametro, #replace = substitui a tabela, append = adiciona dados no fim da tabela existente\n",
    "          credentials = credencial\n",
    "          )"
   ]
  },
  {
   "cell_type": "code",
   "execution_count": 36,
   "id": "bc15a04d",
   "metadata": {},
   "outputs": [
    {
     "name": "stderr",
     "output_type": "stream",
     "text": [
      "C:\\Users\\naylson.araujo\\AppData\\Local\\Temp\\ipykernel_15216\\1470974026.py:1: FutureWarning: to_gbq is deprecated and will be removed in a future version. Please use pandas_gbq.to_gbq instead: https://pandas-gbq.readthedocs.io/en/latest/api.html#pandas_gbq.to_gbq\n",
      "  ordens.to_gbq(destination_table = f'{projeto}.{dataset}.{BQordens}', #Substituir pelo nome correto da tabela\n"
     ]
    }
   ],
   "source": [
    "ordens.to_gbq(destination_table = f'{projeto}.{dataset}.{BQordens}', #Substituir pelo nome correto da tabela\n",
    "          project_id = projeto,\n",
    "          if_exists = parametro, #replace = substitui a tabela, append = adiciona dados no fim da tabela existente\n",
    "          credentials = credencial\n",
    "          )"
   ]
  },
  {
   "cell_type": "code",
   "execution_count": null,
   "id": "8d643b77",
   "metadata": {},
   "outputs": [
    {
     "name": "stderr",
     "output_type": "stream",
     "text": [
      "C:\\Users\\naylson.araujo\\AppData\\Local\\Temp\\ipykernel_12720\\938857810.py:1: FutureWarning: to_gbq is deprecated and will be removed in a future version. Please use pandas_gbq.to_gbq instead: https://pandas-gbq.readthedocs.io/en/latest/api.html#pandas_gbq.to_gbq\n",
      "  categoria.to_gbq(destination_table = f'{projeto}.{dataset}.{BQcategoria}', #Substituir pelo nome correto da tabela\n"
     ]
    }
   ],
   "source": [
    "categoria.to_gbq(destination_table = f'{projeto}.{dataset}.{BQcategoria}', #Substituir pelo nome correto da tabela\n",
    "          project_id = projeto,\n",
    "          if_exists = parametro, #replace = substitui a tabela, append = adiciona dados no fim da tabela existente\n",
    "          credentials = credencial\n",
    "          )"
   ]
  },
  {
   "cell_type": "code",
   "execution_count": null,
   "id": "ab5dfb01",
   "metadata": {},
   "outputs": [
    {
     "name": "stderr",
     "output_type": "stream",
     "text": [
      "C:\\Users\\naylson.araujo\\AppData\\Local\\Temp\\ipykernel_12720\\3512586493.py:1: FutureWarning: to_gbq is deprecated and will be removed in a future version. Please use pandas_gbq.to_gbq instead: https://pandas-gbq.readthedocs.io/en/latest/api.html#pandas_gbq.to_gbq\n",
      "  clientes.to_gbq(destination_table = f'{projeto}.{dataset}.{BQclientes}', #Substituir pelo nome correto da tabela\n"
     ]
    }
   ],
   "source": [
    "clientes.to_gbq(destination_table = f'{projeto}.{dataset}.{BQclientes}', #Substituir pelo nome correto da tabela\n",
    "          project_id = projeto,\n",
    "          if_exists = parametro, #replace = substitui a tabela, append = adiciona dados no fim da tabela existente\n",
    "          credentials = credencial\n",
    "          )"
   ]
  },
  {
   "cell_type": "markdown",
   "id": "3583b41a",
   "metadata": {},
   "source": [
    "#### Extraindo Tabelas do Google BigQuery"
   ]
  },
  {
   "cell_type": "code",
   "execution_count": 21,
   "id": "fc6ade4c",
   "metadata": {},
   "outputs": [],
   "source": [
    "# Caminho do arquivo da credencial\n",
    "credencial = r'G:\\ANALISYS\\EZTEC\\NAYLSON ARAUJO\\0.0-Temp\\00_Estudos\\ETL Google BigQuery\\credencial\\pythoncurso-465921-96e8acdc225e.json'\n",
    "\n",
    "# Criando o clint Bigquery usando as credenciais \n",
    "client = bigquery.Client.from_service_account_json(credencial)"
   ]
  },
  {
   "cell_type": "code",
   "execution_count": 22,
   "id": "7e54c48b",
   "metadata": {},
   "outputs": [
    {
     "name": "stderr",
     "output_type": "stream",
     "text": [
      "c:\\Users\\naylson.araujo\\AppData\\Local\\Programs\\Python\\Python313\\Lib\\site-packages\\google\\cloud\\bigquery\\table.py:1994: UserWarning: BigQuery Storage module not found, fetch data with the REST endpoint instead.\n",
      "  warnings.warn(\n"
     ]
    }
   ],
   "source": [
    "#Consultas\n",
    "queryProduto = \"\"\"\n",
    "SELECT * FROM `pythoncurso-465921.Ecommerce.Produto`\n",
    "\"\"\"\n",
    "\n",
    "#Executa a consulta e traz o resultado\n",
    "resultadoProduto = client.query(queryProduto)\n",
    "\n",
    "#Convertendo o resultado em DataFrame\n",
    "Produto = resultadoProduto.to_dataframe()\n"
   ]
  },
  {
   "cell_type": "code",
   "execution_count": 23,
   "id": "85035500",
   "metadata": {},
   "outputs": [
    {
     "data": {
      "text/html": [
       "<div>\n",
       "<style scoped>\n",
       "    .dataframe tbody tr th:only-of-type {\n",
       "        vertical-align: middle;\n",
       "    }\n",
       "\n",
       "    .dataframe tbody tr th {\n",
       "        vertical-align: top;\n",
       "    }\n",
       "\n",
       "    .dataframe thead th {\n",
       "        text-align: right;\n",
       "    }\n",
       "</style>\n",
       "<table border=\"1\" class=\"dataframe\">\n",
       "  <thead>\n",
       "    <tr style=\"text-align: right;\">\n",
       "      <th></th>\n",
       "      <th>ID</th>\n",
       "      <th>Name</th>\n",
       "      <th>Price</th>\n",
       "      <th>Id_Category</th>\n",
       "    </tr>\n",
       "  </thead>\n",
       "  <tbody>\n",
       "    <tr>\n",
       "      <th>0</th>\n",
       "      <td>0</td>\n",
       "      <td>Sapato vermelho</td>\n",
       "      <td>96</td>\n",
       "      <td>0</td>\n",
       "    </tr>\n",
       "    <tr>\n",
       "      <th>1</th>\n",
       "      <td>0</td>\n",
       "      <td>Sapato vermelho</td>\n",
       "      <td>96</td>\n",
       "      <td>0</td>\n",
       "    </tr>\n",
       "    <tr>\n",
       "      <th>2</th>\n",
       "      <td>1</td>\n",
       "      <td>Bolsa mais que Velha</td>\n",
       "      <td>8000</td>\n",
       "      <td>0</td>\n",
       "    </tr>\n",
       "    <tr>\n",
       "      <th>3</th>\n",
       "      <td>2</td>\n",
       "      <td>Calça</td>\n",
       "      <td>75</td>\n",
       "      <td>0</td>\n",
       "    </tr>\n",
       "    <tr>\n",
       "      <th>4</th>\n",
       "      <td>3</td>\n",
       "      <td>Camisa apertadinha</td>\n",
       "      <td>170</td>\n",
       "      <td>0</td>\n",
       "    </tr>\n",
       "  </tbody>\n",
       "</table>\n",
       "</div>"
      ],
      "text/plain": [
       "   ID                  Name  Price  Id_Category\n",
       "0   0       Sapato vermelho     96            0\n",
       "1   0       Sapato vermelho     96            0\n",
       "2   1  Bolsa mais que Velha   8000            0\n",
       "3   2                 Calça     75            0\n",
       "4   3    Camisa apertadinha    170            0"
      ]
     },
     "execution_count": 23,
     "metadata": {},
     "output_type": "execute_result"
    }
   ],
   "source": [
    "Produto.head()"
   ]
  },
  {
   "cell_type": "code",
   "execution_count": 24,
   "id": "ebd7db7b",
   "metadata": {},
   "outputs": [],
   "source": [
    "#Salvando o arquivo na pasta\n",
    "caminho = r'G:\\ANALISYS\\EZTEC\\NAYLSON ARAUJO\\0.0-Temp\\00_Estudos\\repos\\estudos_big_query\\dados exportados\\\\'\n",
    "arquivoProduto = 'produto.xlsx'\n",
    "\n",
    "Produto.to_excel(caminho+arquivoProduto, index=False) #index=False para não incluir o índice no arquivo"
   ]
  },
  {
   "cell_type": "code",
   "execution_count": 25,
   "id": "072a9ea2",
   "metadata": {},
   "outputs": [],
   "source": [
    "#Querys\n",
    "queryCategoria = \"\"\"\n",
    "SELECT * FROM `pythoncurso-465921.Ecommerce.categoria` WHERE id in (0,5,8,10)\n",
    "\"\"\"\n",
    "queryItens = \"\"\"\n",
    "SELECT * FROM `pythoncurso-465921.Ecommerce.itens`\n",
    "\"\"\"\n",
    "queryOrdens = \"\"\"\n",
    "SELECT * FROM `pythoncurso-465921.Ecommerce.ordens`\n",
    "\"\"\"\n",
    "queryClientes = \"\"\"\n",
    "SELECT * FROM `pythoncurso-465921.Ecommerce.clientes` LIMIT 50\n",
    "\"\"\""
   ]
  },
  {
   "cell_type": "code",
   "execution_count": 26,
   "id": "dc380f71",
   "metadata": {},
   "outputs": [],
   "source": [
    "#Resultados\n",
    "rCategoria = client.query(queryCategoria)\n",
    "rItens = client.query(queryItens)\n",
    "rOrdens = client.query(queryOrdens)\n",
    "rClientes = client.query(queryClientes)"
   ]
  },
  {
   "cell_type": "code",
   "execution_count": 27,
   "id": "2e9e33c8",
   "metadata": {},
   "outputs": [
    {
     "name": "stderr",
     "output_type": "stream",
     "text": [
      "c:\\Users\\naylson.araujo\\AppData\\Local\\Programs\\Python\\Python313\\Lib\\site-packages\\google\\cloud\\bigquery\\table.py:1994: UserWarning: BigQuery Storage module not found, fetch data with the REST endpoint instead.\n",
      "  warnings.warn(\n"
     ]
    }
   ],
   "source": [
    "#DataFrames\n",
    "dfCategoria = rCategoria.to_dataframe()\n",
    "dfItens = rItens.to_dataframe()\n",
    "dfOrdens = rOrdens.to_dataframe()\n",
    "dfClientes = rClientes.to_dataframe()"
   ]
  },
  {
   "cell_type": "code",
   "execution_count": null,
   "id": "e783049c",
   "metadata": {},
   "outputs": [],
   "source": [
    "#Arquivos + Armazenamento em Excel\n",
    "aCategoria = 'categoria.xlsx'\n",
    "aItens = 'itens.xlsx'\n",
    "aOrdens = 'ordens.xlsx'\n",
    "aClientes = 'clientes.xlsx'\n",
    "\n",
    "dfCategoria.to_excel( caminho + aCategoria, index=False )\n",
    "dfItens.to_excel( caminho + aItens, index=False )\n",
    "dfOrdens.to_excel( caminho + aOrdens, index=False )\n",
    "dfClientes.to_excel( caminho + aClientes, index=False )"
   ]
  },
  {
   "cell_type": "code",
   "execution_count": 40,
   "id": "5f020a95",
   "metadata": {},
   "outputs": [
    {
     "data": {
      "text/html": [
       "<div>\n",
       "<style scoped>\n",
       "    .dataframe tbody tr th:only-of-type {\n",
       "        vertical-align: middle;\n",
       "    }\n",
       "\n",
       "    .dataframe tbody tr th {\n",
       "        vertical-align: top;\n",
       "    }\n",
       "\n",
       "    .dataframe thead th {\n",
       "        text-align: right;\n",
       "    }\n",
       "</style>\n",
       "<table border=\"1\" class=\"dataframe\">\n",
       "  <thead>\n",
       "    <tr style=\"text-align: right;\">\n",
       "      <th></th>\n",
       "      <th>id</th>\n",
       "      <th>created_at</th>\n",
       "      <th>customer_id</th>\n",
       "      <th>status</th>\n",
       "    </tr>\n",
       "  </thead>\n",
       "  <tbody>\n",
       "    <tr>\n",
       "      <th>0</th>\n",
       "      <td>0</td>\n",
       "      <td>2019-08-28 03:36:31</td>\n",
       "      <td>91</td>\n",
       "      <td>entregue</td>\n",
       "    </tr>\n",
       "    <tr>\n",
       "      <th>1</th>\n",
       "      <td>1</td>\n",
       "      <td>2019-08-16 20:21:30</td>\n",
       "      <td>7</td>\n",
       "      <td>entregue</td>\n",
       "    </tr>\n",
       "    <tr>\n",
       "      <th>2</th>\n",
       "      <td>2</td>\n",
       "      <td>2019-07-11 11:00:06</td>\n",
       "      <td>26</td>\n",
       "      <td>pagamento_pendente</td>\n",
       "    </tr>\n",
       "    <tr>\n",
       "      <th>3</th>\n",
       "      <td>3</td>\n",
       "      <td>2019-08-27 21:04:41</td>\n",
       "      <td>92</td>\n",
       "      <td>pagamento_pendente</td>\n",
       "    </tr>\n",
       "    <tr>\n",
       "      <th>4</th>\n",
       "      <td>4</td>\n",
       "      <td>2019-11-03 19:58:37</td>\n",
       "      <td>63</td>\n",
       "      <td>entrega_pendente</td>\n",
       "    </tr>\n",
       "  </tbody>\n",
       "</table>\n",
       "</div>"
      ],
      "text/plain": [
       "   id          created_at  customer_id              status\n",
       "0   0 2019-08-28 03:36:31           91            entregue\n",
       "1   1 2019-08-16 20:21:30            7            entregue\n",
       "2   2 2019-07-11 11:00:06           26  pagamento_pendente\n",
       "3   3 2019-08-27 21:04:41           92  pagamento_pendente\n",
       "4   4 2019-11-03 19:58:37           63    entrega_pendente"
      ]
     },
     "execution_count": 40,
     "metadata": {},
     "output_type": "execute_result"
    }
   ],
   "source": [
    "df2 = pd.read_excel(r'G:\\ANALISYS\\EZTEC\\NAYLSON ARAUJO\\0.0-Temp\\00_Estudos\\repos\\estudos_big_query\\data\\Ordens.xlsx')\n",
    "df2.head()"
   ]
  },
  {
   "cell_type": "code",
   "execution_count": 41,
   "id": "f85d0e4a",
   "metadata": {},
   "outputs": [],
   "source": [
    "# Filtrar df antes da carga (apenas mês e ano atuais)\n",
    "hoje = datetime.now()\n",
    "mes_atual = hoje.month\n",
    "ano_atual = hoje.year\n",
    "\n",
    "df2 = df2[( df2['created_at'].dt.month == mes_atual ) & ( df2['created_at'].dt.year == ano_atual )]"
   ]
  },
  {
   "cell_type": "code",
   "execution_count": 42,
   "id": "c1e21cd4",
   "metadata": {},
   "outputs": [
    {
     "data": {
      "text/html": [
       "<div>\n",
       "<style scoped>\n",
       "    .dataframe tbody tr th:only-of-type {\n",
       "        vertical-align: middle;\n",
       "    }\n",
       "\n",
       "    .dataframe tbody tr th {\n",
       "        vertical-align: top;\n",
       "    }\n",
       "\n",
       "    .dataframe thead th {\n",
       "        text-align: right;\n",
       "    }\n",
       "</style>\n",
       "<table border=\"1\" class=\"dataframe\">\n",
       "  <thead>\n",
       "    <tr style=\"text-align: right;\">\n",
       "      <th></th>\n",
       "      <th>id</th>\n",
       "      <th>created_at</th>\n",
       "      <th>customer_id</th>\n",
       "      <th>status</th>\n",
       "    </tr>\n",
       "  </thead>\n",
       "  <tbody>\n",
       "    <tr>\n",
       "      <th>10000</th>\n",
       "      <td>10000</td>\n",
       "      <td>2025-10-01 18:47:00.000</td>\n",
       "      <td>79</td>\n",
       "      <td>carrinho</td>\n",
       "    </tr>\n",
       "    <tr>\n",
       "      <th>10001</th>\n",
       "      <td>10001</td>\n",
       "      <td>2025-10-02 18:46:59.995</td>\n",
       "      <td>0</td>\n",
       "      <td>entrega_pendente</td>\n",
       "    </tr>\n",
       "    <tr>\n",
       "      <th>10002</th>\n",
       "      <td>10002</td>\n",
       "      <td>2025-10-03 18:46:59.995</td>\n",
       "      <td>58</td>\n",
       "      <td>carrinho</td>\n",
       "    </tr>\n",
       "    <tr>\n",
       "      <th>10003</th>\n",
       "      <td>10003</td>\n",
       "      <td>2025-10-04 18:46:59.995</td>\n",
       "      <td>6</td>\n",
       "      <td>entregue</td>\n",
       "    </tr>\n",
       "    <tr>\n",
       "      <th>10004</th>\n",
       "      <td>10004</td>\n",
       "      <td>2025-10-05 18:46:59.995</td>\n",
       "      <td>50</td>\n",
       "      <td>pagamento_pendente</td>\n",
       "    </tr>\n",
       "  </tbody>\n",
       "</table>\n",
       "</div>"
      ],
      "text/plain": [
       "          id              created_at  customer_id              status\n",
       "10000  10000 2025-10-01 18:47:00.000           79            carrinho\n",
       "10001  10001 2025-10-02 18:46:59.995            0    entrega_pendente\n",
       "10002  10002 2025-10-03 18:46:59.995           58            carrinho\n",
       "10003  10003 2025-10-04 18:46:59.995            6            entregue\n",
       "10004  10004 2025-10-05 18:46:59.995           50  pagamento_pendente"
      ]
     },
     "execution_count": 42,
     "metadata": {},
     "output_type": "execute_result"
    }
   ],
   "source": [
    "df2.head()"
   ]
  },
  {
   "cell_type": "code",
   "execution_count": 44,
   "id": "a937db80",
   "metadata": {},
   "outputs": [],
   "source": [
    "comandoapagar = \"\"\" \n",
    "\n",
    " delete\n",
    " FROM `pythoncurso-465921.Ecommerce.ordens`\n",
    " where FORMAT_TIMESTAMP('%Y', created_at)  = FORMAT_TIMESTAMP('%Y', CURRENT_DATE())\n",
    " and  FORMAT_TIMESTAMP('%m', created_at)  = FORMAT_TIMESTAMP('%m', CURRENT_DATE())\n",
    "\n",
    "\n",
    "\"\"\"\n",
    "# Execute a consulta\n",
    "apagardados = client.query(comandoapagar)"
   ]
  },
  {
   "cell_type": "code",
   "execution_count": 45,
   "id": "6e7e5fd6",
   "metadata": {},
   "outputs": [
    {
     "name": "stderr",
     "output_type": "stream",
     "text": [
      "C:\\Users\\naylson.araujo\\AppData\\Local\\Temp\\ipykernel_15216\\2360857660.py:1: FutureWarning: to_gbq is deprecated and will be removed in a future version. Please use pandas_gbq.to_gbq instead: https://pandas-gbq.readthedocs.io/en/latest/api.html#pandas_gbq.to_gbq\n",
      "  df2.to_gbq(destination_table = f'{projeto}.{dataset}.{BQordens}', #Substituir pelo nome correto da tabela\n"
     ]
    }
   ],
   "source": [
    "df2.to_gbq(destination_table = f'{projeto}.{dataset}.{BQordens}', #Substituir pelo nome correto da tabela\n",
    "          project_id = projeto,\n",
    "          if_exists = parametro, #replace = substitui a tabela, append = adiciona dados no fim da tabela existente\n",
    "          credentials = credencial\n",
    "          )"
   ]
  },
  {
   "cell_type": "markdown",
   "id": "bc667b18",
   "metadata": {},
   "source": [
    "#### Trabalhando com datas e mantendo histórico"
   ]
  },
  {
   "cell_type": "code",
   "execution_count": 46,
   "id": "e55579ac",
   "metadata": {},
   "outputs": [
    {
     "data": {
      "text/html": [
       "<div>\n",
       "<style scoped>\n",
       "    .dataframe tbody tr th:only-of-type {\n",
       "        vertical-align: middle;\n",
       "    }\n",
       "\n",
       "    .dataframe tbody tr th {\n",
       "        vertical-align: top;\n",
       "    }\n",
       "\n",
       "    .dataframe thead th {\n",
       "        text-align: right;\n",
       "    }\n",
       "</style>\n",
       "<table border=\"1\" class=\"dataframe\">\n",
       "  <thead>\n",
       "    <tr style=\"text-align: right;\">\n",
       "      <th></th>\n",
       "      <th>ID</th>\n",
       "      <th>Name</th>\n",
       "      <th>Price</th>\n",
       "      <th>Id_Category</th>\n",
       "    </tr>\n",
       "  </thead>\n",
       "  <tbody>\n",
       "    <tr>\n",
       "      <th>0</th>\n",
       "      <td>0</td>\n",
       "      <td>Sapato vermelho</td>\n",
       "      <td>96</td>\n",
       "      <td>0</td>\n",
       "    </tr>\n",
       "    <tr>\n",
       "      <th>1</th>\n",
       "      <td>0</td>\n",
       "      <td>Sapato vermelho</td>\n",
       "      <td>96</td>\n",
       "      <td>0</td>\n",
       "    </tr>\n",
       "    <tr>\n",
       "      <th>2</th>\n",
       "      <td>1</td>\n",
       "      <td>Bolsa mais que Velha</td>\n",
       "      <td>8000</td>\n",
       "      <td>0</td>\n",
       "    </tr>\n",
       "    <tr>\n",
       "      <th>3</th>\n",
       "      <td>2</td>\n",
       "      <td>Calça</td>\n",
       "      <td>75</td>\n",
       "      <td>0</td>\n",
       "    </tr>\n",
       "    <tr>\n",
       "      <th>4</th>\n",
       "      <td>3</td>\n",
       "      <td>Camisa apertadinha</td>\n",
       "      <td>170</td>\n",
       "      <td>0</td>\n",
       "    </tr>\n",
       "  </tbody>\n",
       "</table>\n",
       "</div>"
      ],
      "text/plain": [
       "   ID                  Name  Price  Id_Category\n",
       "0   0       Sapato vermelho     96            0\n",
       "1   0       Sapato vermelho     96            0\n",
       "2   1  Bolsa mais que Velha   8000            0\n",
       "3   2                 Calça     75            0\n",
       "4   3    Camisa apertadinha    170            0"
      ]
     },
     "execution_count": 46,
     "metadata": {},
     "output_type": "execute_result"
    }
   ],
   "source": [
    "df3 = pd.read_excel(r'G:\\ANALISYS\\EZTEC\\NAYLSON ARAUJO\\0.0-Temp\\00_Estudos\\repos\\estudos_big_query\\data\\Produto.xlsx')\n",
    "df3.head()"
   ]
  },
  {
   "cell_type": "code",
   "execution_count": 50,
   "id": "7b0b697a",
   "metadata": {},
   "outputs": [
    {
     "data": {
      "text/html": [
       "<div>\n",
       "<style scoped>\n",
       "    .dataframe tbody tr th:only-of-type {\n",
       "        vertical-align: middle;\n",
       "    }\n",
       "\n",
       "    .dataframe tbody tr th {\n",
       "        vertical-align: top;\n",
       "    }\n",
       "\n",
       "    .dataframe thead th {\n",
       "        text-align: right;\n",
       "    }\n",
       "</style>\n",
       "<table border=\"1\" class=\"dataframe\">\n",
       "  <thead>\n",
       "    <tr style=\"text-align: right;\">\n",
       "      <th></th>\n",
       "      <th>ID</th>\n",
       "      <th>Name</th>\n",
       "      <th>Price</th>\n",
       "      <th>Id_Category</th>\n",
       "      <th>DataHoraCarga</th>\n",
       "    </tr>\n",
       "  </thead>\n",
       "  <tbody>\n",
       "    <tr>\n",
       "      <th>0</th>\n",
       "      <td>0</td>\n",
       "      <td>Sapato vermelho</td>\n",
       "      <td>96</td>\n",
       "      <td>0</td>\n",
       "      <td>2025-10-08 17:00:29.397326</td>\n",
       "    </tr>\n",
       "    <tr>\n",
       "      <th>1</th>\n",
       "      <td>0</td>\n",
       "      <td>Sapato vermelho</td>\n",
       "      <td>96</td>\n",
       "      <td>0</td>\n",
       "      <td>2025-10-08 17:00:29.397326</td>\n",
       "    </tr>\n",
       "    <tr>\n",
       "      <th>2</th>\n",
       "      <td>1</td>\n",
       "      <td>Bolsa mais que Velha</td>\n",
       "      <td>8000</td>\n",
       "      <td>0</td>\n",
       "      <td>2025-10-08 17:00:29.397326</td>\n",
       "    </tr>\n",
       "    <tr>\n",
       "      <th>3</th>\n",
       "      <td>2</td>\n",
       "      <td>Calça</td>\n",
       "      <td>75</td>\n",
       "      <td>0</td>\n",
       "      <td>2025-10-08 17:00:29.397326</td>\n",
       "    </tr>\n",
       "    <tr>\n",
       "      <th>4</th>\n",
       "      <td>3</td>\n",
       "      <td>Camisa apertadinha</td>\n",
       "      <td>170</td>\n",
       "      <td>0</td>\n",
       "      <td>2025-10-08 17:00:29.397326</td>\n",
       "    </tr>\n",
       "  </tbody>\n",
       "</table>\n",
       "</div>"
      ],
      "text/plain": [
       "   ID                  Name  Price  Id_Category              DataHoraCarga\n",
       "0   0       Sapato vermelho     96            0 2025-10-08 17:00:29.397326\n",
       "1   0       Sapato vermelho     96            0 2025-10-08 17:00:29.397326\n",
       "2   1  Bolsa mais que Velha   8000            0 2025-10-08 17:00:29.397326\n",
       "3   2                 Calça     75            0 2025-10-08 17:00:29.397326\n",
       "4   3    Camisa apertadinha    170            0 2025-10-08 17:00:29.397326"
      ]
     },
     "execution_count": 50,
     "metadata": {},
     "output_type": "execute_result"
    }
   ],
   "source": [
    "df3['DataHoraCarga'] = datetime.now()\n",
    "df3.head()"
   ]
  },
  {
   "cell_type": "code",
   "execution_count": 51,
   "id": "1dda3a59",
   "metadata": {},
   "outputs": [
    {
     "data": {
      "text/html": [
       "<div>\n",
       "<style scoped>\n",
       "    .dataframe tbody tr th:only-of-type {\n",
       "        vertical-align: middle;\n",
       "    }\n",
       "\n",
       "    .dataframe tbody tr th {\n",
       "        vertical-align: top;\n",
       "    }\n",
       "\n",
       "    .dataframe thead th {\n",
       "        text-align: right;\n",
       "    }\n",
       "</style>\n",
       "<table border=\"1\" class=\"dataframe\">\n",
       "  <thead>\n",
       "    <tr style=\"text-align: right;\">\n",
       "      <th></th>\n",
       "      <th>ID</th>\n",
       "      <th>Name</th>\n",
       "      <th>Price</th>\n",
       "      <th>Id_Category</th>\n",
       "      <th>DataHoraCarga</th>\n",
       "    </tr>\n",
       "  </thead>\n",
       "  <tbody>\n",
       "    <tr>\n",
       "      <th>0</th>\n",
       "      <td>0</td>\n",
       "      <td>Sapato vermelho</td>\n",
       "      <td>96</td>\n",
       "      <td>0</td>\n",
       "      <td>2025-10-08 17:04:21</td>\n",
       "    </tr>\n",
       "    <tr>\n",
       "      <th>1</th>\n",
       "      <td>0</td>\n",
       "      <td>Sapato vermelho</td>\n",
       "      <td>96</td>\n",
       "      <td>0</td>\n",
       "      <td>2025-10-08 17:04:21</td>\n",
       "    </tr>\n",
       "    <tr>\n",
       "      <th>2</th>\n",
       "      <td>1</td>\n",
       "      <td>Bolsa mais que Velha</td>\n",
       "      <td>8000</td>\n",
       "      <td>0</td>\n",
       "      <td>2025-10-08 17:04:21</td>\n",
       "    </tr>\n",
       "    <tr>\n",
       "      <th>3</th>\n",
       "      <td>2</td>\n",
       "      <td>Calça</td>\n",
       "      <td>75</td>\n",
       "      <td>0</td>\n",
       "      <td>2025-10-08 17:04:21</td>\n",
       "    </tr>\n",
       "    <tr>\n",
       "      <th>4</th>\n",
       "      <td>3</td>\n",
       "      <td>Camisa apertadinha</td>\n",
       "      <td>170</td>\n",
       "      <td>0</td>\n",
       "      <td>2025-10-08 17:04:21</td>\n",
       "    </tr>\n",
       "  </tbody>\n",
       "</table>\n",
       "</div>"
      ],
      "text/plain": [
       "   ID                  Name  Price  Id_Category        DataHoraCarga\n",
       "0   0       Sapato vermelho     96            0  2025-10-08 17:04:21\n",
       "1   0       Sapato vermelho     96            0  2025-10-08 17:04:21\n",
       "2   1  Bolsa mais que Velha   8000            0  2025-10-08 17:04:21\n",
       "3   2                 Calça     75            0  2025-10-08 17:04:21\n",
       "4   3    Camisa apertadinha    170            0  2025-10-08 17:04:21"
      ]
     },
     "execution_count": 51,
     "metadata": {},
     "output_type": "execute_result"
    }
   ],
   "source": [
    "# convertendo a data para o formato aceitável do bigquery\n",
    "df3['DataHoraCarga'] = datetime.now().strftime( '%Y-%m-%d %H:%M:%S' )\n",
    "df3.head()"
   ]
  },
  {
   "cell_type": "code",
   "execution_count": null,
   "id": "2a134c13",
   "metadata": {},
   "outputs": [
    {
     "data": {
      "text/html": [
       "<div>\n",
       "<style scoped>\n",
       "    .dataframe tbody tr th:only-of-type {\n",
       "        vertical-align: middle;\n",
       "    }\n",
       "\n",
       "    .dataframe tbody tr th {\n",
       "        vertical-align: top;\n",
       "    }\n",
       "\n",
       "    .dataframe thead th {\n",
       "        text-align: right;\n",
       "    }\n",
       "</style>\n",
       "<table border=\"1\" class=\"dataframe\">\n",
       "  <thead>\n",
       "    <tr style=\"text-align: right;\">\n",
       "      <th></th>\n",
       "      <th>ID</th>\n",
       "      <th>Name</th>\n",
       "      <th>Price</th>\n",
       "      <th>Id_Category</th>\n",
       "      <th>DataHoraCarga</th>\n",
       "      <th>DataCarga</th>\n",
       "    </tr>\n",
       "  </thead>\n",
       "  <tbody>\n",
       "    <tr>\n",
       "      <th>0</th>\n",
       "      <td>0</td>\n",
       "      <td>Sapato vermelho</td>\n",
       "      <td>96</td>\n",
       "      <td>0</td>\n",
       "      <td>2025-10-08 17:04:21</td>\n",
       "      <td>08/10/2025</td>\n",
       "    </tr>\n",
       "    <tr>\n",
       "      <th>1</th>\n",
       "      <td>0</td>\n",
       "      <td>Sapato vermelho</td>\n",
       "      <td>96</td>\n",
       "      <td>0</td>\n",
       "      <td>2025-10-08 17:04:21</td>\n",
       "      <td>08/10/2025</td>\n",
       "    </tr>\n",
       "    <tr>\n",
       "      <th>2</th>\n",
       "      <td>1</td>\n",
       "      <td>Bolsa mais que Velha</td>\n",
       "      <td>8000</td>\n",
       "      <td>0</td>\n",
       "      <td>2025-10-08 17:04:21</td>\n",
       "      <td>08/10/2025</td>\n",
       "    </tr>\n",
       "    <tr>\n",
       "      <th>3</th>\n",
       "      <td>2</td>\n",
       "      <td>Calça</td>\n",
       "      <td>75</td>\n",
       "      <td>0</td>\n",
       "      <td>2025-10-08 17:04:21</td>\n",
       "      <td>08/10/2025</td>\n",
       "    </tr>\n",
       "    <tr>\n",
       "      <th>4</th>\n",
       "      <td>3</td>\n",
       "      <td>Camisa apertadinha</td>\n",
       "      <td>170</td>\n",
       "      <td>0</td>\n",
       "      <td>2025-10-08 17:04:21</td>\n",
       "      <td>08/10/2025</td>\n",
       "    </tr>\n",
       "  </tbody>\n",
       "</table>\n",
       "</div>"
      ],
      "text/plain": [
       "   ID                  Name  Price  Id_Category        DataHoraCarga  \\\n",
       "0   0       Sapato vermelho     96            0  2025-10-08 17:04:21   \n",
       "1   0       Sapato vermelho     96            0  2025-10-08 17:04:21   \n",
       "2   1  Bolsa mais que Velha   8000            0  2025-10-08 17:04:21   \n",
       "3   2                 Calça     75            0  2025-10-08 17:04:21   \n",
       "4   3    Camisa apertadinha    170            0  2025-10-08 17:04:21   \n",
       "\n",
       "    DataCarga  \n",
       "0  08/10/2025  \n",
       "1  08/10/2025  \n",
       "2  08/10/2025  \n",
       "3  08/10/2025  \n",
       "4  08/10/2025  "
      ]
     },
     "execution_count": 52,
     "metadata": {},
     "output_type": "execute_result"
    }
   ],
   "source": [
    "# data da carga\n",
    "df3['DataCarga'] = datetime.now().strftime( '%d/%m/%Y' )\n",
    "df3.head()"
   ]
  },
  {
   "cell_type": "code",
   "execution_count": 58,
   "id": "845a5ef7",
   "metadata": {},
   "outputs": [
    {
     "data": {
      "text/html": [
       "<div>\n",
       "<style scoped>\n",
       "    .dataframe tbody tr th:only-of-type {\n",
       "        vertical-align: middle;\n",
       "    }\n",
       "\n",
       "    .dataframe tbody tr th {\n",
       "        vertical-align: top;\n",
       "    }\n",
       "\n",
       "    .dataframe thead th {\n",
       "        text-align: right;\n",
       "    }\n",
       "</style>\n",
       "<table border=\"1\" class=\"dataframe\">\n",
       "  <thead>\n",
       "    <tr style=\"text-align: right;\">\n",
       "      <th></th>\n",
       "      <th>ID</th>\n",
       "      <th>Name</th>\n",
       "      <th>Price</th>\n",
       "      <th>Id_Category</th>\n",
       "      <th>DataHoraCarga</th>\n",
       "      <th>DataCarga</th>\n",
       "      <th>HoraCarga</th>\n",
       "    </tr>\n",
       "  </thead>\n",
       "  <tbody>\n",
       "    <tr>\n",
       "      <th>0</th>\n",
       "      <td>0</td>\n",
       "      <td>Sapato vermelho</td>\n",
       "      <td>96</td>\n",
       "      <td>0</td>\n",
       "      <td>2025-10-08 17:04:21</td>\n",
       "      <td>2025-08-10</td>\n",
       "      <td>17:16:21</td>\n",
       "    </tr>\n",
       "    <tr>\n",
       "      <th>1</th>\n",
       "      <td>0</td>\n",
       "      <td>Sapato vermelho</td>\n",
       "      <td>96</td>\n",
       "      <td>0</td>\n",
       "      <td>2025-10-08 17:04:21</td>\n",
       "      <td>2025-08-10</td>\n",
       "      <td>17:16:21</td>\n",
       "    </tr>\n",
       "    <tr>\n",
       "      <th>2</th>\n",
       "      <td>1</td>\n",
       "      <td>Bolsa mais que Velha</td>\n",
       "      <td>8000</td>\n",
       "      <td>0</td>\n",
       "      <td>2025-10-08 17:04:21</td>\n",
       "      <td>2025-08-10</td>\n",
       "      <td>17:16:21</td>\n",
       "    </tr>\n",
       "    <tr>\n",
       "      <th>3</th>\n",
       "      <td>2</td>\n",
       "      <td>Calça</td>\n",
       "      <td>75</td>\n",
       "      <td>0</td>\n",
       "      <td>2025-10-08 17:04:21</td>\n",
       "      <td>2025-08-10</td>\n",
       "      <td>17:16:21</td>\n",
       "    </tr>\n",
       "    <tr>\n",
       "      <th>4</th>\n",
       "      <td>3</td>\n",
       "      <td>Camisa apertadinha</td>\n",
       "      <td>170</td>\n",
       "      <td>0</td>\n",
       "      <td>2025-10-08 17:04:21</td>\n",
       "      <td>2025-08-10</td>\n",
       "      <td>17:16:21</td>\n",
       "    </tr>\n",
       "  </tbody>\n",
       "</table>\n",
       "</div>"
      ],
      "text/plain": [
       "   ID                  Name  Price  Id_Category       DataHoraCarga  \\\n",
       "0   0       Sapato vermelho     96            0 2025-10-08 17:04:21   \n",
       "1   0       Sapato vermelho     96            0 2025-10-08 17:04:21   \n",
       "2   1  Bolsa mais que Velha   8000            0 2025-10-08 17:04:21   \n",
       "3   2                 Calça     75            0 2025-10-08 17:04:21   \n",
       "4   3    Camisa apertadinha    170            0 2025-10-08 17:04:21   \n",
       "\n",
       "   DataCarga HoraCarga  \n",
       "0 2025-08-10  17:16:21  \n",
       "1 2025-08-10  17:16:21  \n",
       "2 2025-08-10  17:16:21  \n",
       "3 2025-08-10  17:16:21  \n",
       "4 2025-08-10  17:16:21  "
      ]
     },
     "execution_count": 58,
     "metadata": {},
     "output_type": "execute_result"
    }
   ],
   "source": [
    "# hora da carga\n",
    "df3['HoraCarga'] = datetime.now().strftime( '%H:%M:%S' )\n",
    "df3.head()"
   ]
  },
  {
   "cell_type": "code",
   "execution_count": 60,
   "id": "6dae08c6",
   "metadata": {},
   "outputs": [
    {
     "data": {
      "text/plain": [
       "ID                        int64\n",
       "Name                     object\n",
       "Price                     int64\n",
       "Id_Category               int64\n",
       "DataHoraCarga    datetime64[ns]\n",
       "DataCarga        datetime64[ns]\n",
       "HoraCarga                object\n",
       "dtype: object"
      ]
     },
     "execution_count": 60,
     "metadata": {},
     "output_type": "execute_result"
    }
   ],
   "source": [
    "df3.dtypes"
   ]
  },
  {
   "cell_type": "code",
   "execution_count": 59,
   "id": "e2980fef",
   "metadata": {},
   "outputs": [
    {
     "data": {
      "text/html": [
       "<div>\n",
       "<style scoped>\n",
       "    .dataframe tbody tr th:only-of-type {\n",
       "        vertical-align: middle;\n",
       "    }\n",
       "\n",
       "    .dataframe tbody tr th {\n",
       "        vertical-align: top;\n",
       "    }\n",
       "\n",
       "    .dataframe thead th {\n",
       "        text-align: right;\n",
       "    }\n",
       "</style>\n",
       "<table border=\"1\" class=\"dataframe\">\n",
       "  <thead>\n",
       "    <tr style=\"text-align: right;\">\n",
       "      <th></th>\n",
       "      <th>ID</th>\n",
       "      <th>Name</th>\n",
       "      <th>Price</th>\n",
       "      <th>Id_Category</th>\n",
       "      <th>DataHoraCarga</th>\n",
       "      <th>DataCarga</th>\n",
       "      <th>HoraCarga</th>\n",
       "    </tr>\n",
       "  </thead>\n",
       "  <tbody>\n",
       "    <tr>\n",
       "      <th>0</th>\n",
       "      <td>0</td>\n",
       "      <td>Sapato vermelho</td>\n",
       "      <td>96</td>\n",
       "      <td>0</td>\n",
       "      <td>2025-10-08 17:04:21</td>\n",
       "      <td>2025-08-10</td>\n",
       "      <td>17:16:21</td>\n",
       "    </tr>\n",
       "    <tr>\n",
       "      <th>1</th>\n",
       "      <td>0</td>\n",
       "      <td>Sapato vermelho</td>\n",
       "      <td>96</td>\n",
       "      <td>0</td>\n",
       "      <td>2025-10-08 17:04:21</td>\n",
       "      <td>2025-08-10</td>\n",
       "      <td>17:16:21</td>\n",
       "    </tr>\n",
       "    <tr>\n",
       "      <th>2</th>\n",
       "      <td>1</td>\n",
       "      <td>Bolsa mais que Velha</td>\n",
       "      <td>8000</td>\n",
       "      <td>0</td>\n",
       "      <td>2025-10-08 17:04:21</td>\n",
       "      <td>2025-08-10</td>\n",
       "      <td>17:16:21</td>\n",
       "    </tr>\n",
       "    <tr>\n",
       "      <th>3</th>\n",
       "      <td>2</td>\n",
       "      <td>Calça</td>\n",
       "      <td>75</td>\n",
       "      <td>0</td>\n",
       "      <td>2025-10-08 17:04:21</td>\n",
       "      <td>2025-08-10</td>\n",
       "      <td>17:16:21</td>\n",
       "    </tr>\n",
       "    <tr>\n",
       "      <th>4</th>\n",
       "      <td>3</td>\n",
       "      <td>Camisa apertadinha</td>\n",
       "      <td>170</td>\n",
       "      <td>0</td>\n",
       "      <td>2025-10-08 17:04:21</td>\n",
       "      <td>2025-08-10</td>\n",
       "      <td>17:16:21</td>\n",
       "    </tr>\n",
       "  </tbody>\n",
       "</table>\n",
       "</div>"
      ],
      "text/plain": [
       "   ID                  Name  Price  Id_Category       DataHoraCarga  \\\n",
       "0   0       Sapato vermelho     96            0 2025-10-08 17:04:21   \n",
       "1   0       Sapato vermelho     96            0 2025-10-08 17:04:21   \n",
       "2   1  Bolsa mais que Velha   8000            0 2025-10-08 17:04:21   \n",
       "3   2                 Calça     75            0 2025-10-08 17:04:21   \n",
       "4   3    Camisa apertadinha    170            0 2025-10-08 17:04:21   \n",
       "\n",
       "   DataCarga HoraCarga  \n",
       "0 2025-08-10  17:16:21  \n",
       "1 2025-08-10  17:16:21  \n",
       "2 2025-08-10  17:16:21  \n",
       "3 2025-08-10  17:16:21  \n",
       "4 2025-08-10  17:16:21  "
      ]
     },
     "execution_count": 59,
     "metadata": {},
     "output_type": "execute_result"
    }
   ],
   "source": [
    "# converter para datetime\n",
    "df3['DataHoraCarga'] = pd.to_datetime( df3['DataHoraCarga'] )\n",
    "df3['DataCarga'] = pd.to_datetime( df3['DataCarga'] )\n",
    "\n",
    "df3.head()"
   ]
  },
  {
   "cell_type": "code",
   "execution_count": 61,
   "id": "7873cae0",
   "metadata": {},
   "outputs": [],
   "source": [
    "# criando um schema do tipo de dados aceitavel no bigquery\n",
    "schema = [\n",
    "    {'name': 'DataHoraCarga', 'type': 'TIMESTAMP'},\n",
    "    {'name': 'Price', 'type': 'INTEGER'},\n",
    "    {'name': 'Id_Category', 'type': 'INTEGER'},\n",
    "    {'name': 'DataCarga', 'type': 'DATE'}\n",
    "]\n"
   ]
  },
  {
   "cell_type": "code",
   "execution_count": 64,
   "id": "23e6be96",
   "metadata": {},
   "outputs": [
    {
     "name": "stderr",
     "output_type": "stream",
     "text": [
      "C:\\Users\\naylson.araujo\\AppData\\Local\\Temp\\ipykernel_15216\\4226334214.py:2: FutureWarning: to_gbq is deprecated and will be removed in a future version. Please use pandas_gbq.to_gbq instead: https://pandas-gbq.readthedocs.io/en/latest/api.html#pandas_gbq.to_gbq\n",
      "  df3.to_gbq(\n"
     ]
    }
   ],
   "source": [
    "# enviando o DataFrame para o BigQuery\n",
    "df3.to_gbq(\n",
    "    destination_table=f'{projeto}.AulaPython.ProdutoHistórico',\n",
    "    project_id = projeto,\n",
    "    if_exists = 'append',\n",
    "    credentials = credencial,\n",
    "    table_schema = schema\n",
    "           )"
   ]
  },
  {
   "cell_type": "code",
   "execution_count": null,
   "id": "91aecb77",
   "metadata": {},
   "outputs": [],
   "source": []
  }
 ],
 "metadata": {
  "kernelspec": {
   "display_name": "Python 3",
   "language": "python",
   "name": "python3"
  },
  "language_info": {
   "codemirror_mode": {
    "name": "ipython",
    "version": 3
   },
   "file_extension": ".py",
   "mimetype": "text/x-python",
   "name": "python",
   "nbconvert_exporter": "python",
   "pygments_lexer": "ipython3",
   "version": "3.13.5"
  }
 },
 "nbformat": 4,
 "nbformat_minor": 5
}
